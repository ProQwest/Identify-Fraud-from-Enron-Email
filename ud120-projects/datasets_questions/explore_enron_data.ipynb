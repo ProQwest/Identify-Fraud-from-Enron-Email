{
 "cells": [
  {
   "cell_type": "code",
   "execution_count": 2,
   "metadata": {
    "collapsed": true
   },
   "outputs": [],
   "source": [
    "#!/usr/bin/python\n",
    "\n",
    "\"\"\" \n",
    "    Starter code for exploring the Enron dataset (emails + finances);\n",
    "    loads up the dataset (pickled dict of dicts).\n",
    "\n",
    "    The dataset has the form:\n",
    "    enron_data[\"LASTNAME FIRSTNAME MIDDLEINITIAL\"] = { features_dict }\n",
    "\n",
    "    {features_dict} is a dictionary of features associated with that person.\n",
    "    You should explore features_dict as part of the mini-project,\n",
    "    but here's an example to get you started:\n",
    "\n",
    "    enron_data[\"SKILLING JEFFREY K\"][\"bonus\"] = 5600000\n",
    "    \n",
    "\"\"\"\n",
    "\n",
    "import pickle\n",
    "\n",
    "enron_data = pickle.load(open(\"../final_project/final_project_dataset.pkl\", \"r\"))\n",
    "\n",
    "\n"
   ]
  },
  {
   "cell_type": "code",
   "execution_count": 10,
   "metadata": {
    "collapsed": false
   },
   "outputs": [
    {
     "data": {
      "text/plain": [
       "146"
      ]
     },
     "execution_count": 10,
     "metadata": {},
     "output_type": "execute_result"
    }
   ],
   "source": [
    "# number of people\n",
    "len(enron_data)"
   ]
  },
  {
   "cell_type": "code",
   "execution_count": 17,
   "metadata": {
    "collapsed": false
   },
   "outputs": [
    {
     "data": {
      "text/plain": [
       "21"
      ]
     },
     "execution_count": 17,
     "metadata": {},
     "output_type": "execute_result"
    }
   ],
   "source": [
    "# number of features\n",
    "len(enron_data['SKILLING JEFFREY K'].keys())"
   ]
  },
  {
   "cell_type": "code",
   "execution_count": 18,
   "metadata": {
    "collapsed": false
   },
   "outputs": [
    {
     "data": {
      "text/plain": [
       "['salary',\n",
       " 'to_messages',\n",
       " 'deferral_payments',\n",
       " 'total_payments',\n",
       " 'exercised_stock_options',\n",
       " 'bonus',\n",
       " 'restricted_stock',\n",
       " 'shared_receipt_with_poi',\n",
       " 'restricted_stock_deferred',\n",
       " 'total_stock_value',\n",
       " 'expenses',\n",
       " 'loan_advances',\n",
       " 'from_messages',\n",
       " 'other',\n",
       " 'from_this_person_to_poi',\n",
       " 'poi',\n",
       " 'director_fees',\n",
       " 'deferred_income',\n",
       " 'long_term_incentive',\n",
       " 'email_address',\n",
       " 'from_poi_to_this_person']"
      ]
     },
     "execution_count": 18,
     "metadata": {},
     "output_type": "execute_result"
    }
   ],
   "source": [
    "enron_data['SKILLING JEFFREY K'].keys()"
   ]
  },
  {
   "cell_type": "code",
   "execution_count": 9,
   "metadata": {
    "collapsed": false
   },
   "outputs": [
    {
     "data": {
      "text/plain": [
       "True"
      ]
     },
     "execution_count": 9,
     "metadata": {},
     "output_type": "execute_result"
    }
   ],
   "source": [
    "enron_data['SKILLING JEFFREY K']['poi']"
   ]
  },
  {
   "cell_type": "code",
   "execution_count": 22,
   "metadata": {
    "collapsed": false
   },
   "outputs": [
    {
     "name": "stdout",
     "output_type": "stream",
     "text": [
      "18\n",
      "['HANNON KEVIN P', 'COLWELL WESLEY', 'RIEKER PAULA H', 'KOPPER MICHAEL J', 'SHELBY REX', 'DELAINEY DAVID W', 'LAY KENNETH L', 'BOWEN JR RAYMOND M', 'BELDEN TIMOTHY N', 'FASTOW ANDREW S', 'CALGER CHRISTOPHER F', 'RICE KENNETH D', 'SKILLING JEFFREY K', 'YEAGER F SCOTT', 'HIRKO JOSEPH', 'KOENIG MARK E', 'CAUSEY RICHARD A', 'GLISAN JR BEN F']\n"
     ]
    }
   ],
   "source": [
    "# count people of interest\n",
    "count_poi = 0\n",
    "poi_name = []\n",
    "for entry in enron_data:\n",
    "    if enron_data[entry]['poi'] == 1:\n",
    "        count_poi += 1\n",
    "        poi_name.append(entry)\n",
    "print count_poi\n",
    "print poi_name"
   ]
  },
  {
   "cell_type": "code",
   "execution_count": 19,
   "metadata": {
    "collapsed": false
   },
   "outputs": [
    {
     "data": {
      "text/plain": [
       "1095040"
      ]
     },
     "execution_count": 19,
     "metadata": {},
     "output_type": "execute_result"
    }
   ],
   "source": [
    "#What is the total value of the stock belonging to James Prentice?\n",
    "enron_data['PRENTICE JAMES']['total_stock_value']"
   ]
  },
  {
   "cell_type": "code",
   "execution_count": 31,
   "metadata": {
    "collapsed": false
   },
   "outputs": [
    {
     "data": {
      "text/plain": [
       "11"
      ]
     },
     "execution_count": 31,
     "metadata": {},
     "output_type": "execute_result"
    }
   ],
   "source": [
    "# Number of email message from Wesley Colwell to persons of interests\n",
    "enron_data['COLWELL WESLEY']['from_this_person_to_poi']\n",
    "    \n",
    "                          "
   ]
  },
  {
   "cell_type": "code",
   "execution_count": 32,
   "metadata": {
    "collapsed": false
   },
   "outputs": [
    {
     "data": {
      "text/plain": [
       "19250000"
      ]
     },
     "execution_count": 32,
     "metadata": {},
     "output_type": "execute_result"
    }
   ],
   "source": [
    "#What’s the value of stock options exercised by Jeffrey Skilling?\n",
    "enron_data['SKILLING JEFFREY K']['exercised_stock_options']"
   ]
  },
  {
   "cell_type": "code",
   "execution_count": 34,
   "metadata": {
    "collapsed": false
   },
   "outputs": [
    {
     "data": {
      "text/plain": [
       "8682716"
      ]
     },
     "execution_count": 34,
     "metadata": {},
     "output_type": "execute_result"
    }
   ],
   "source": [
    "enron_data['SKILLING JEFFREY K']['total_payments']"
   ]
  },
  {
   "cell_type": "code",
   "execution_count": 35,
   "metadata": {
    "collapsed": false
   },
   "outputs": [
    {
     "data": {
      "text/plain": [
       "103559793"
      ]
     },
     "execution_count": 35,
     "metadata": {},
     "output_type": "execute_result"
    }
   ],
   "source": [
    "enron_data['LAY KENNETH L']['total_payments']"
   ]
  },
  {
   "cell_type": "code",
   "execution_count": 36,
   "metadata": {
    "collapsed": false
   },
   "outputs": [
    {
     "data": {
      "text/plain": [
       "2424083"
      ]
     },
     "execution_count": 36,
     "metadata": {},
     "output_type": "execute_result"
    }
   ],
   "source": [
    "enron_data['FASTOW ANDREW S']['total_payments']"
   ]
  },
  {
   "cell_type": "code",
   "execution_count": 38,
   "metadata": {
    "collapsed": false
   },
   "outputs": [
    {
     "data": {
      "text/plain": [
       "{'bonus': 1200000,\n",
       " 'deferral_payments': 27610,\n",
       " 'deferred_income': -144062,\n",
       " 'director_fees': 'NaN',\n",
       " 'email_address': 'wes.colwell@enron.com',\n",
       " 'exercised_stock_options': 'NaN',\n",
       " 'expenses': 16514,\n",
       " 'from_messages': 40,\n",
       " 'from_poi_to_this_person': 240,\n",
       " 'from_this_person_to_poi': 11,\n",
       " 'loan_advances': 'NaN',\n",
       " 'long_term_incentive': 'NaN',\n",
       " 'other': 101740,\n",
       " 'poi': True,\n",
       " 'restricted_stock': 698242,\n",
       " 'restricted_stock_deferred': 'NaN',\n",
       " 'salary': 288542,\n",
       " 'shared_receipt_with_poi': 1132,\n",
       " 'to_messages': 1758,\n",
       " 'total_payments': 1490344,\n",
       " 'total_stock_value': 698242}"
      ]
     },
     "execution_count": 38,
     "metadata": {},
     "output_type": "execute_result"
    }
   ],
   "source": [
    "# unfilled data\n",
    "enron_data['COLWELL WESLEY']"
   ]
  },
  {
   "cell_type": "code",
   "execution_count": 44,
   "metadata": {
    "collapsed": false
   },
   "outputs": [
    {
     "name": "stdout",
     "output_type": "stream",
     "text": [
      "95\n"
     ]
    }
   ],
   "source": [
    "#How many folks in this dataset have a quantified salary? \n",
    "count_salary = 0\n",
    "for entry in enron_data:\n",
    "    if type (enron_data[entry]['salary']) == int :\n",
    "        count_salary +=1\n",
    "print count_salary\n",
    "        "
   ]
  },
  {
   "cell_type": "code",
   "execution_count": 47,
   "metadata": {
    "collapsed": false
   },
   "outputs": [
    {
     "name": "stdout",
     "output_type": "stream",
     "text": [
      "111\n"
     ]
    }
   ],
   "source": [
    "# How many folks in this dataset have a known email address?\n",
    "count_email_address = 0\n",
    "for entry in enron_data:\n",
    "    if enron_data[entry]['email_address'] != 'NaN' :\n",
    "        count_email_address +=1\n",
    "print count_email_address\n"
   ]
  },
  {
   "cell_type": "code",
   "execution_count": 52,
   "metadata": {
    "collapsed": false
   },
   "outputs": [
    {
     "name": "stdout",
     "output_type": "stream",
     "text": [
      "21\n",
      "% of people have NaN for the total payments: 14%\n"
     ]
    }
   ],
   "source": [
    "#How many people in the E+F dataset (as it currently exists) have “NaN” for their total payments? \n",
    "count_total_payments_NaN = 0\n",
    "for entry in enron_data:\n",
    "    if enron_data[entry]['total_payments'] == 'NaN':\n",
    "        count_total_payments_NaN += 1\n",
    "print count_total_payments_NaN\n",
    "        \n",
    "#What percentage of people in the dataset as a whole is this?\n",
    "print \"% of people have NaN for the total payments: \" + str(21*100/146) + \"%\""
   ]
  },
  {
   "cell_type": "code",
   "execution_count": 53,
   "metadata": {
    "collapsed": false
   },
   "outputs": [
    {
     "name": "stdout",
     "output_type": "stream",
     "text": [
      "0\n"
     ]
    }
   ],
   "source": [
    "#How many POIs in the E+F dataset have “NaN” for their total payments? \n",
    "count_total_payments_NaN_poi = 0\n",
    "for entry in enron_data:\n",
    "    if enron_data[entry]['poi'] == 1:\n",
    "        if enron_data[entry]['total_payments'] == 'NaN':\n",
    "            count_total_payments_NaN_poi += 1\n",
    "print count_total_payments_NaN_poi\n",
    "# What percentage of POI’s as a whole is this?"
   ]
  },
  {
   "cell_type": "code",
   "execution_count": 55,
   "metadata": {
    "collapsed": false
   },
   "outputs": [
    {
     "data": {
      "text/plain": [
       "31"
      ]
     },
     "execution_count": 55,
     "metadata": {},
     "output_type": "execute_result"
    }
   ],
   "source": [
    "#If you added in, say, 10 more data points which were all POI’s, and put “NaN” for the total payments for those folks, the numbers you just calculated would change.\n",
    "#What is the new number of people of the dataset? What is the new number of folks with “NaN” for total payments?\n",
    "\n",
    "10 + 21"
   ]
  },
  {
   "cell_type": "code",
   "execution_count": 61,
   "metadata": {
    "collapsed": false
   },
   "outputs": [],
   "source": [
    "#What is the new number of POI’s in the dataset? What percentage of them have “NaN” for their total stock value?\n",
    "new_POI = 10 + 18\n"
   ]
  },
  {
   "cell_type": "code",
   "execution_count": 62,
   "metadata": {
    "collapsed": false
   },
   "outputs": [
    {
     "name": "stdout",
     "output_type": "stream",
     "text": [
      "% of POI people have NaN for the total payments: 35%\n"
     ]
    }
   ],
   "source": [
    "print \"% of POI people have NaN for the total payments: \" + str(10*100/new_POI) + \"%\""
   ]
  },
  {
   "cell_type": "code",
   "execution_count": 63,
   "metadata": {
    "collapsed": true
   },
   "outputs": [],
   "source": [
    "#Once the new data points are added, do you think a supervised classification algorithm might interpret “NaN” for total stock value as a clue that someone is a POI?"
   ]
  },
  {
   "cell_type": "code",
   "execution_count": 64,
   "metadata": {
    "collapsed": false
   },
   "outputs": [
    {
     "name": "stdout",
     "output_type": "stream",
     "text": [
      "80\n"
     ]
    }
   ],
   "source": [
    "#How many data have “NaN” for their \"long-term-incentives\"\n",
    "count_total_incentives_NaN = 0\n",
    "for entry in enron_data:\n",
    "    if enron_data[entry]['long_term_incentive'] == 'NaN':\n",
    "        count_total_incentives_NaN += 1\n",
    "print count_total_incentives_NaN\n",
    "# What percentage of POI’s as a whole is this?"
   ]
  },
  {
   "cell_type": "code",
   "execution_count": 15,
   "metadata": {
    "collapsed": false
   },
   "outputs": [
    {
     "name": "stdout",
     "output_type": "stream",
     "text": [
      "[477, 6615, 63744, 76399, 80818, 85274, 94941, 96840, 130724, 158403, 162779, 170941, 174246, 182245, 184899, 187922, 192008, 197091, 199157, 201955, 206121, 210500, 210692, 211788, 211844, 213625, 213999, 216582, 221003, 222093, 224305, 229284, 231330, 231946, 236457, 239502, 239671, 240189, 243293, 247338, 248017, 248146, 248546, 249201, 250100, 251654, 257486, 259996, 261516, 261809, 261879, 262663, 262788, 263413, 265214, 267093, 267102, 269076, 271442, 272880, 273746, 274975, 275101, 278601, 278601, 288542, 288558, 288589, 304110, 304588, 309946, 314288, 317543, 329078, 330546, 339288, 349487, 357091, 365038, 365163, 365788, 370448, 374125, 404338, 415189, 420636, 428780, 440698, 492375, 510364, 655037, 1060932, 1072321, 1111258, 26704229]\n"
     ]
    }
   ],
   "source": [
    "# find max salary\n",
    "salary_list = []\n",
    "for entry in enron_data:\n",
    "    if type (enron_data[entry]['salary']) == int :\n",
    "        salary_list.append(enron_data[entry]['salary'])\n",
    "print sorted(salary_list)"
   ]
  },
  {
   "cell_type": "code",
   "execution_count": 19,
   "metadata": {
    "collapsed": false
   },
   "outputs": [
    {
     "name": "stdout",
     "output_type": "stream",
     "text": [
      "[70000, 100000, 100000, 200000, 200000, 200000, 250000, 250000, 300000, 300000, 300000, 325000, 325000, 325000, 350000, 350000, 400000, 400000, 400000, 400000, 425000, 450000, 500000, 500000, 509870, 600000, 600000, 600000, 600000, 600000, 600000, 650000, 700000, 700000, 700000, 700000, 700000, 750000, 750000, 750000, 750000, 788750, 800000, 800000, 800000, 800000, 850000, 850000, 850000, 900000, 900000, 1000000, 1000000, 1000000, 1000000, 1000000, 1000000, 1100000, 1100000, 1150000, 1200000, 1200000, 1250000, 1300000, 1350000, 1500000, 1500000, 1700000, 1750000, 2000000, 2000000, 2500000, 2600000, 3000000, 3000000, 3100000, 4175000, 5249999, 5600000, 7000000, 8000000, 97343619]\n"
     ]
    }
   ],
   "source": [
    "# find max bonus\n",
    "bonus_list = []\n",
    "for entry in enron_data:\n",
    "    if type (enron_data[entry]['bonus']) == int :\n",
    "        bonus_list.append(enron_data[entry]['bonus'])\n",
    "print sorted(bonus_list)"
   ]
  },
  {
   "cell_type": "code",
   "execution_count": 20,
   "metadata": {
    "collapsed": false
   },
   "outputs": [
    {
     "name": "stdout",
     "output_type": "stream",
     "text": [
      "TOTAL\n"
     ]
    }
   ],
   "source": [
    "# find person with max salary\n",
    "for entry in enron_data:\n",
    "    if enron_data[entry]['salary'] == 26704229:\n",
    "        print entry"
   ]
  },
  {
   "cell_type": "markdown",
   "metadata": {},
   "source": [
    "Outlier is the 'Total'"
   ]
  },
  {
   "cell_type": "code",
   "execution_count": 11,
   "metadata": {
    "collapsed": false
   },
   "outputs": [
    {
     "name": "stdout",
     "output_type": "stream",
     "text": [
      "SKILLING JEFFREY K\n"
     ]
    }
   ],
   "source": [
    "# find person with max salary\n",
    "for entry in enron_data:\n",
    "    if enron_data[entry]['salary'] == 1111258:\n",
    "        print entry"
   ]
  },
  {
   "cell_type": "code",
   "execution_count": 18,
   "metadata": {
    "collapsed": false
   },
   "outputs": [
    {
     "name": "stdout",
     "output_type": "stream",
     "text": [
      "LAVORATO JOHN J\n"
     ]
    }
   ],
   "source": [
    "# find person with max bonus\n",
    "for entry in enron_data:\n",
    "    if enron_data[entry]['bonus'] == 8000000:\n",
    "        print entry"
   ]
  },
  {
   "cell_type": "code",
   "execution_count": null,
   "metadata": {
    "collapsed": true
   },
   "outputs": [],
   "source": []
  }
 ],
 "metadata": {
  "kernelspec": {
   "display_name": "Python 2",
   "language": "python",
   "name": "python2"
  },
  "language_info": {
   "codemirror_mode": {
    "name": "ipython",
    "version": 2
   },
   "file_extension": ".py",
   "mimetype": "text/x-python",
   "name": "python",
   "nbconvert_exporter": "python",
   "pygments_lexer": "ipython2",
   "version": "2.7.11"
  }
 },
 "nbformat": 4,
 "nbformat_minor": 0
}
