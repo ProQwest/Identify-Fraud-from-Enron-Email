{
 "cells": [
  {
   "cell_type": "code",
   "execution_count": 1,
   "metadata": {
    "collapsed": false
   },
   "outputs": [
    {
     "ename": "ImportError",
     "evalue": "No module named studentRegression",
     "output_type": "error",
     "traceback": [
      "\u001b[0;31m---------------------------------------------------------------------------\u001b[0m",
      "\u001b[0;31mImportError\u001b[0m                               Traceback (most recent call last)",
      "\u001b[0;32m<ipython-input-1-88f86a726aaf>\u001b[0m in \u001b[0;36m<module>\u001b[0;34m()\u001b[0m\n\u001b[1;32m      6\u001b[0m \u001b[0;34m\u001b[0m\u001b[0m\n\u001b[1;32m      7\u001b[0m \u001b[0;32mimport\u001b[0m \u001b[0mmatplotlib\u001b[0m\u001b[0;34m.\u001b[0m\u001b[0mpyplot\u001b[0m \u001b[0;32mas\u001b[0m \u001b[0mplt\u001b[0m\u001b[0;34m\u001b[0m\u001b[0m\n\u001b[0;32m----> 8\u001b[0;31m \u001b[0;32mfrom\u001b[0m \u001b[0mstudentRegression\u001b[0m \u001b[0;32mimport\u001b[0m \u001b[0mstudentReg\u001b[0m\u001b[0;34m\u001b[0m\u001b[0m\n\u001b[0m\u001b[1;32m      9\u001b[0m \u001b[0;32mfrom\u001b[0m \u001b[0mclass_vis\u001b[0m \u001b[0;32mimport\u001b[0m \u001b[0mprettyPicture\u001b[0m\u001b[0;34m,\u001b[0m \u001b[0moutput_image\u001b[0m\u001b[0;34m\u001b[0m\u001b[0m\n\u001b[1;32m     10\u001b[0m \u001b[0;34m\u001b[0m\u001b[0m\n",
      "\u001b[0;31mImportError\u001b[0m: No module named studentRegression"
     ]
    }
   ],
   "source": [
    "#!/usr/bin/python\n",
    "\n",
    "import numpy\n",
    "import matplotlib\n",
    "matplotlib.use('agg')\n",
    "\n",
    "import matplotlib.pyplot as plt\n",
    "from studentRegression import studentReg\n",
    "from class_vis import prettyPicture, output_image\n",
    "\n",
    "from ages_net_worths import ageNetWorthData\n",
    "\n",
    "ages_train, ages_test, net_worths_train, net_worths_test = ageNetWorthData()\n",
    "\n",
    "\n",
    "\n",
    "reg = studentReg(ages_train, net_worths_train)\n",
    "\n",
    "\n",
    "plt.clf()\n",
    "plt.scatter(ages_train, net_worths_train, color=\"b\", label=\"train data\")\n",
    "plt.scatter(ages_test, net_worths_test, color=\"r\", label=\"test data\")\n",
    "plt.plot(ages_test, reg.predict(ages_test), color=\"black\")\n",
    "plt.legend(loc=2)\n",
    "plt.xlabel(\"ages\")\n",
    "plt.ylabel(\"net worths\")\n",
    "\n",
    "\n",
    "plt.savefig(\"test.png\")\n",
    "output_image(\"test.png\", \"png\", open(\"test.png\", \"rb\").read())"
   ]
  },
  {
   "cell_type": "code",
   "execution_count": null,
   "metadata": {
    "collapsed": true
   },
   "outputs": [],
   "source": [
    "import numpy\n",
    "import matplotlib.pyplot as plt\n",
    "\n",
    "from ages_net_worths import ageNetWorthData\n",
    "\n",
    "ages_train, ages_test, net_worths_train, net_worths_test = ageNetWorthData()\n",
    "\n",
    "\n",
    "\n",
    "from sklearn.linear_model import LinearRegression\n",
    "\n",
    "reg = LinearRegression()\n",
    "reg.fit(ages_train, net_worths_train)\n",
    "\n",
    "### get Katie's net worth (she's 27)\n",
    "\n",
    "### sklearn predictions are returned in an array, so you'll want to index into\n",
    "### the output to get what you want, e.g. net_worth = predict([[27]])[0][0] (not\n",
    "### exact syntax, the point is the [0] at the end). In addition, make sure the\n",
    "### argument to your prediction function is in the expected format - if you get\n",
    "### a warning about needing a 2d array for your data, a list of lists will be\n",
    "### interpreted by sklearn as such (e.g. [[27]]).\n",
    "km_net_worth = reg.predict([27])[0][0]### fill in the line of code to get the right value\n",
    "\n",
    "### get the slope\n",
    "### again, you'll get a 2-D array, so stick the [0][0] at the end\n",
    "slope = reg.coef_[0][0] ### fill in the line of code to get the right value\n",
    "\n",
    "### get the intercept\n",
    "### here you get a 1-D array, so stick [0] on the end to access\n",
    "### the info we want\n",
    "intercept = reg.intercept_[0] ### fill in the line of code to get the right value\n",
    "\n",
    "\n",
    "### get the score on test data\n",
    "test_score = reg.score(ages_test, net_worths_test) ### fill in the line of code to get the right value\n",
    "\n",
    "\n",
    "### get the score on the training data\n",
    "training_score = reg.score(ages_train, net_worths_train) ### fill in the line of code to get the right value\n",
    "\n",
    "\n",
    "\n",
    "def submitFit():\n",
    "    # all of the values in the returned dictionary are expected to be\n",
    "    # numbers for the purpose of the grader.\n",
    "    return {\"networth\":km_net_worth,\n",
    "            \"slope\":slope,\n",
    "            \"intercept\":intercept,\n",
    "            \"stats on test\":test_score,\n",
    "            \"stats on training\": training_score}"
   ]
  }
 ],
 "metadata": {
  "kernelspec": {
   "display_name": "Python 2",
   "language": "python",
   "name": "python2"
  },
  "language_info": {
   "codemirror_mode": {
    "name": "ipython",
    "version": 2
   },
   "file_extension": ".py",
   "mimetype": "text/x-python",
   "name": "python",
   "nbconvert_exporter": "python",
   "pygments_lexer": "ipython2",
   "version": "2.7.11"
  }
 },
 "nbformat": 4,
 "nbformat_minor": 0
}
